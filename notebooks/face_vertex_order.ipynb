{
 "cells": [
  {
   "cell_type": "code",
   "execution_count": 1,
   "metadata": {
    "collapsed": true
   },
   "outputs": [],
   "source": [
    "import numpy as np\n",
    "from functools import reduce"
   ]
  },
  {
   "cell_type": "code",
   "execution_count": 2,
   "outputs": [
    {
     "data": {
      "text/plain": "{0: [0, 0, 0],\n 1: [0, 0, 1],\n 2: [0, 1, 0],\n 3: [0, 1, 1],\n 4: [1, 0, 0],\n 5: [1, 0, 1],\n 6: [1, 1, 0],\n 7: [1, 1, 1]}"
     },
     "execution_count": 2,
     "metadata": {},
     "output_type": "execute_result"
    }
   ],
   "source": [
    "interval = [0, 1]\n",
    "\n",
    "coordinates = [[i, j, k] for i in interval for j in interval for k in interval]\n",
    "vertices = {i: coordinates[i] for i in range(len(coordinates))}\n",
    "\n",
    "edges = {}\n",
    "\n",
    "for index in vertices:\n",
    "    if not index in edges:\n",
    "        edges[index] = set()\n",
    "    for other_index in vertices:\n",
    "        vector = np.array(vertices[index]) - np.array(vertices[other_index])\n",
    "        if np.linalg.norm(vector) == 1:\n",
    "            edges[index].add(other_index)\n",
    "\n",
    "vertices"
   ],
   "metadata": {
    "collapsed": false
   }
  },
  {
   "cell_type": "code",
   "execution_count": 3,
   "outputs": [],
   "source": [
    "def get_pairs(several):\n",
    "    pairs = []\n",
    "    for x in several:\n",
    "        several = several.difference({x})\n",
    "        for y in several:\n",
    "            pairs.append({x, y})\n",
    "    return pairs"
   ],
   "metadata": {
    "collapsed": false
   }
  },
  {
   "cell_type": "code",
   "execution_count": 4,
   "outputs": [
    {
     "data": {
      "text/plain": "[{0, 1, 2, 3},\n {0, 1, 4, 5},\n {0, 2, 4, 6},\n {1, 3, 5, 7},\n {2, 3, 6, 7},\n {4, 5, 6, 7}]"
     },
     "execution_count": 4,
     "metadata": {},
     "output_type": "execute_result"
    }
   ],
   "source": [
    "faces = []\n",
    "\n",
    "remaining_vertices = set(edges.keys())\n",
    "while remaining_vertices:\n",
    "    v1 = remaining_vertices.pop()\n",
    "    adjacent_vertices = edges[v1]\n",
    "    for v2, v3 in get_pairs(adjacent_vertices):\n",
    "        v4 = edges[v2].intersection(edges[v3]).difference({v1})\n",
    "        face = {v1, v2, v3}.union(v4)\n",
    "        faces.append(face)\n",
    "    used_vertices = reduce(set.union, [edges[vertex] for vertex in adjacent_vertices]).union(adjacent_vertices)\n",
    "    remaining_vertices = remaining_vertices.difference(used_vertices)\n",
    "\n",
    "faces"
   ],
   "metadata": {
    "collapsed": false
   }
  },
  {
   "cell_type": "code",
   "execution_count": 5,
   "outputs": [
    {
     "name": "stdout",
     "output_type": "stream",
     "text": [
      "True\n",
      "True\n",
      "True\n",
      "False\n",
      "False\n",
      "False\n"
     ]
    }
   ],
   "source": [
    "def on_coord_plane(face: set):\n",
    "    index_list = list(face)\n",
    "    coord_list = [vertices[i] for i in index_list]\n",
    "    vertices_on_coord_plane = [reduce(lambda x, y: x * y, coords) == 0 for coords in coord_list]\n",
    "    return True if all(vertices_on_coord_plane) else False\n",
    "\n",
    "for face in faces:\n",
    "    print(on_coord_plane(face))"
   ],
   "metadata": {
    "collapsed": false
   }
  },
  {
   "cell_type": "code",
   "execution_count": 106,
   "outputs": [],
   "source": [
    "def wind(face):\n",
    "    index_list = list(face)\n",
    "    coord_array = [np.array(vertices[i]) for i in index_list]\n",
    "    edges = [coord_array[i % len(coord_array)] - coord_array[(i-1) % len(coord_array)] for i in range(len(coord_array))]\n",
    "    v_1, v_2, v_3, v_4 = tuple(edges)\n",
    "    n_1 = np.cross(v_1, v_2)\n",
    "    n_2 = np.cross(v_3, v_4)\n",
    "    print(coord_array)\n",
    "    if np.dot(n_1, n_2) < 0:\n",
    "        print(v_1)\n",
    "        print(v_2)\n",
    "        print(v_3)\n",
    "        print(v_4)\n",
    "        return \"wound\"\n",
    "    else:\n",
    "        return \"not wound\""
   ],
   "metadata": {
    "collapsed": false
   }
  },
  {
   "cell_type": "code",
   "execution_count": null,
   "outputs": [],
   "source": [],
   "metadata": {
    "collapsed": false
   }
  }
 ],
 "metadata": {
  "kernelspec": {
   "display_name": "Python 3",
   "language": "python",
   "name": "python3"
  },
  "language_info": {
   "codemirror_mode": {
    "name": "ipython",
    "version": 2
   },
   "file_extension": ".py",
   "mimetype": "text/x-python",
   "name": "python",
   "nbconvert_exporter": "python",
   "pygments_lexer": "ipython2",
   "version": "2.7.6"
  }
 },
 "nbformat": 4,
 "nbformat_minor": 0
}
