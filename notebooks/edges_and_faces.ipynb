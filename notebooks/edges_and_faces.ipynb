{
 "cells": [
  {
   "cell_type": "markdown",
   "source": [],
   "metadata": {
    "collapsed": false
   }
  },
  {
   "cell_type": "code",
   "execution_count": 113,
   "metadata": {
    "collapsed": true
   },
   "outputs": [],
   "source": [
    "import numpy as np\n",
    "from functools import reduce"
   ]
  },
  {
   "cell_type": "code",
   "execution_count": 114,
   "outputs": [
    {
     "data": {
      "text/plain": "{0: array([0, 0, 0]),\n 1: array([0, 0, 1]),\n 2: array([0, 1, 0]),\n 3: array([0, 1, 1]),\n 4: array([1, 0, 0]),\n 5: array([1, 0, 1]),\n 6: array([1, 1, 0]),\n 7: array([1, 1, 1])}"
     },
     "execution_count": 114,
     "metadata": {},
     "output_type": "execute_result"
    }
   ],
   "source": [
    "interval = [0, 1]\n",
    "\n",
    "coordinates = np.array(\n",
    "    [[i, j, k] for i in interval for j in interval for k in interval]\n",
    ")\n",
    "\n",
    "vertices = {i: coordinates[i] for i in range(len(coordinates))}\n",
    "vertices"
   ],
   "metadata": {
    "collapsed": false
   }
  },
  {
   "cell_type": "code",
   "execution_count": 48,
   "outputs": [
    {
     "data": {
      "text/plain": "{0: {1, 2, 4},\n 1: {0, 3, 5},\n 2: {0, 3, 6},\n 3: {1, 2, 7},\n 4: {0, 5, 6},\n 5: {1, 4, 7},\n 6: {2, 4, 7},\n 7: {3, 5, 6}}"
     },
     "execution_count": 48,
     "metadata": {},
     "output_type": "execute_result"
    }
   ],
   "source": [
    "edges = {}\n",
    "\n",
    "for index in vertices:\n",
    "    if not index in edges:\n",
    "        edges[index] = set()\n",
    "    for other_index in vertices:\n",
    "        if np.linalg.norm(vertices[index] - vertices[other_index]) == 1:\n",
    "            edges[index].add(other_index)\n",
    "\n",
    "edges"
   ],
   "metadata": {
    "collapsed": false
   }
  },
  {
   "cell_type": "code",
   "execution_count": 50,
   "outputs": [],
   "source": [
    "def get_pairs(several):\n",
    "    pairs = []\n",
    "    for x in several:\n",
    "        several = several.difference({x})\n",
    "        for y in several:\n",
    "            pairs.append({x, y})\n",
    "    return pairs"
   ],
   "metadata": {
    "collapsed": false
   }
  },
  {
   "cell_type": "code",
   "execution_count": 112,
   "outputs": [
    {
     "data": {
      "text/plain": "[{0, 1, 2, 3},\n {0, 1, 4, 5},\n {0, 2, 4, 6},\n {1, 3, 5, 7},\n {2, 3, 6, 7},\n {4, 5, 6, 7}]"
     },
     "execution_count": 112,
     "metadata": {},
     "output_type": "execute_result"
    }
   ],
   "source": [
    "faces = []\n",
    "\n",
    "remaining_vertices = set(edges.keys())\n",
    "while remaining_vertices:\n",
    "    v1 = remaining_vertices.pop()\n",
    "    adjacent_vertices = edges[v1]\n",
    "    for v2, v3 in get_pairs(adjacent_vertices):\n",
    "        v4 = edges[v2].intersection(edges[v3]).difference({v1})\n",
    "        face = {v1, v2, v3}.union(v4)\n",
    "        faces.append(face)\n",
    "    used_vertices = reduce(set.union, [edges[vertex] for vertex in adjacent_vertices]).union(adjacent_vertices)\n",
    "    remaining_vertices = remaining_vertices.difference(used_vertices)\n",
    "faces"
   ],
   "metadata": {
    "collapsed": false
   }
  },
  {
   "cell_type": "code",
   "execution_count": null,
   "outputs": [],
   "source": [],
   "metadata": {
    "collapsed": false
   }
  }
 ],
 "metadata": {
  "kernelspec": {
   "display_name": "Python 3",
   "language": "python",
   "name": "python3"
  },
  "language_info": {
   "codemirror_mode": {
    "name": "ipython",
    "version": 2
   },
   "file_extension": ".py",
   "mimetype": "text/x-python",
   "name": "python",
   "nbconvert_exporter": "python",
   "pygments_lexer": "ipython2",
   "version": "2.7.6"
  }
 },
 "nbformat": 4,
 "nbformat_minor": 0
}
