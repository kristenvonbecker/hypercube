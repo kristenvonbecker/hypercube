{
 "cells": [
  {
   "cell_type": "code",
   "execution_count": 1,
   "metadata": {
    "executionInfo": {
     "elapsed": 87,
     "status": "ok",
     "timestamp": 1752030785646,
     "user": {
      "displayName": "Kristen Beck",
      "userId": "11841876168962894157"
     },
     "user_tz": 420
    },
    "id": "c_YRFN9OK2Dp"
   },
   "outputs": [],
   "source": [
    "import numpy as np"
   ]
  },
  {
   "cell_type": "code",
   "execution_count": 2,
   "metadata": {
    "colab": {
     "base_uri": "https://localhost:8080/"
    },
    "executionInfo": {
     "elapsed": 9,
     "status": "ok",
     "timestamp": 1752030882597,
     "user": {
      "displayName": "Kristen Beck",
      "userId": "11841876168962894157"
     },
     "user_tz": 420
    },
    "id": "Et-pKezpLBva",
    "outputId": "c41de767-a18b-4fc3-fadf-891ecd1b8452"
   },
   "outputs": [
    {
     "data": {
      "text/plain": "array([[0, 0, 0, 0],\n       [0, 0, 0, 1],\n       [0, 0, 1, 0],\n       [0, 0, 1, 1],\n       [0, 1, 0, 0],\n       [0, 1, 0, 1],\n       [0, 1, 1, 0],\n       [0, 1, 1, 1],\n       [1, 0, 0, 0],\n       [1, 0, 0, 1],\n       [1, 0, 1, 0],\n       [1, 0, 1, 1],\n       [1, 1, 0, 0],\n       [1, 1, 0, 1],\n       [1, 1, 1, 0],\n       [1, 1, 1, 1]])"
     },
     "execution_count": 2,
     "metadata": {},
     "output_type": "execute_result"
    }
   ],
   "source": [
    "# use repeated list comprehension to generate cartesian coords of vertices\n",
    "\n",
    "interval = [0, 1]\n",
    "\n",
    "vertices = np.array(\n",
    "    [[i, j, k, l]\n",
    "     for i in interval for j in interval for k in interval for l in interval]\n",
    ")\n",
    "\n",
    "vertices"
   ]
  },
  {
   "cell_type": "code",
   "execution_count": 3,
   "metadata": {
    "colab": {
     "base_uri": "https://localhost:8080/"
    },
    "executionInfo": {
     "elapsed": 14,
     "status": "ok",
     "timestamp": 1752031455290,
     "user": {
      "displayName": "Kristen Beck",
      "userId": "11841876168962894157"
     },
     "user_tz": 420
    },
    "id": "RY0_g3h8Lao-",
    "outputId": "9c97c137-5fbd-40db-a854-325521d57c94"
   },
   "outputs": [
    {
     "data": {
      "text/plain": "array([[0., 1., 1., 0., 1., 0., 0., 0., 1., 0., 0., 0., 0., 0., 0., 0.],\n       [0., 0., 0., 1., 0., 1., 0., 0., 0., 1., 0., 0., 0., 0., 0., 0.],\n       [0., 0., 0., 1., 0., 0., 1., 0., 0., 0., 1., 0., 0., 0., 0., 0.],\n       [0., 0., 0., 0., 0., 0., 0., 1., 0., 0., 0., 1., 0., 0., 0., 0.],\n       [0., 0., 0., 0., 0., 1., 1., 0., 0., 0., 0., 0., 1., 0., 0., 0.],\n       [0., 0., 0., 0., 0., 0., 0., 1., 0., 0., 0., 0., 0., 1., 0., 0.],\n       [0., 0., 0., 0., 0., 0., 0., 1., 0., 0., 0., 0., 0., 0., 1., 0.],\n       [0., 0., 0., 0., 0., 0., 0., 0., 0., 0., 0., 0., 0., 0., 0., 1.],\n       [0., 0., 0., 0., 0., 0., 0., 0., 0., 1., 1., 0., 1., 0., 0., 0.],\n       [0., 0., 0., 0., 0., 0., 0., 0., 0., 0., 0., 1., 0., 1., 0., 0.],\n       [0., 0., 0., 0., 0., 0., 0., 0., 0., 0., 0., 1., 0., 0., 1., 0.],\n       [0., 0., 0., 0., 0., 0., 0., 0., 0., 0., 0., 0., 0., 0., 0., 1.],\n       [0., 0., 0., 0., 0., 0., 0., 0., 0., 0., 0., 0., 0., 1., 1., 0.],\n       [0., 0., 0., 0., 0., 0., 0., 0., 0., 0., 0., 0., 0., 0., 0., 1.],\n       [0., 0., 0., 0., 0., 0., 0., 0., 0., 0., 0., 0., 0., 0., 0., 1.],\n       [0., 0., 0., 0., 0., 0., 0., 0., 0., 0., 0., 0., 0., 0., 0., 0.]])"
     },
     "execution_count": 3,
     "metadata": {},
     "output_type": "execute_result"
    }
   ],
   "source": [
    "# define edges via an adjacency matrix\n",
    "\n",
    "# the ij entry = 1 if vertices i and j are connected by an edge, else 0\n",
    "# an edge exists precisely when the distance between vertices = 1\n",
    "\n",
    "adjacency = np.zeros((len(vertices), len(vertices)))\n",
    "\n",
    "# note that the matrix will necessarily be symmetric and hollow\n",
    "for i in range(len(vertices) - 1):\n",
    "    for j in range(i + 1, len(vertices)):\n",
    "        if np.linalg.norm(vertices[i] - vertices[j]) == 1:\n",
    "            adjacency[i, j] = 1\n",
    "\n",
    "adjacency"
   ]
  },
  {
   "cell_type": "code",
   "execution_count": null,
   "outputs": [],
   "source": [],
   "metadata": {
    "collapsed": false
   }
  }
 ],
 "metadata": {
  "colab": {
   "authorship_tag": "ABX9TyP7djYovG4gSAZHRS+TBUhT",
   "provenance": []
  },
  "kernelspec": {
   "display_name": "Python 3",
   "name": "python3"
  },
  "language_info": {
   "codemirror_mode": {
    "name": "ipython",
    "version": 3
   },
   "file_extension": ".py",
   "mimetype": "text/x-python",
   "name": "python",
   "nbconvert_exporter": "python",
   "pygments_lexer": "ipython3",
   "version": "3.12.8"
  }
 },
 "nbformat": 4,
 "nbformat_minor": 0
}
